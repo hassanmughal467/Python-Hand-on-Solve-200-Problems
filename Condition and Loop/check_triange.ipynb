{
 "cells": [
  {
   "cell_type": "code",
   "execution_count": 1,
   "metadata": {},
   "outputs": [],
   "source": [
    "# ---------------------------------------------------------------\n",
    "# python best courses https://courses.tanpham.org/\n",
    "# ---------------------------------------------------------------\n",
    "# Write a Python program to check a triangle is valid or not"
   ]
  },
  {
   "cell_type": "code",
   "execution_count": 4,
   "metadata": {},
   "outputs": [
    {
     "name": "stdout",
     "output_type": "stream",
     "text": [
      "One side = 2\n",
      "Two side = 2\n",
      "Three side = 2\n",
      "Triangle is valid\n"
     ]
    }
   ],
   "source": [
    "a=int(input(\"One side = \"))\n",
    "b=int(input(\"Two side = \"))\n",
    "c=int(input(\"Three side = \"))\n",
    "if a==b==c:\n",
    "    print(\"Triangle is valid\")\n",
    "else:\n",
    "    print(\"Triangle is invalid\")"
   ]
  }
 ],
 "metadata": {
  "kernelspec": {
   "display_name": "Python 3",
   "language": "python",
   "name": "python3"
  },
  "language_info": {
   "codemirror_mode": {
    "name": "ipython",
    "version": 3
   },
   "file_extension": ".py",
   "mimetype": "text/x-python",
   "name": "python",
   "nbconvert_exporter": "python",
   "pygments_lexer": "ipython3",
   "version": "3.7.4"
  }
 },
 "nbformat": 4,
 "nbformat_minor": 2
}
