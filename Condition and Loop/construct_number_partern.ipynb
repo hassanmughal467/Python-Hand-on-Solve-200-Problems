{
 "cells": [
  {
   "cell_type": "code",
   "execution_count": 1,
   "metadata": {},
   "outputs": [],
   "source": [
    "# ---------------------------------------------------------------\n",
    "# python best courses https://courses.tanpham.org/\n",
    "# ---------------------------------------------------------------\n",
    "# Write a Python program to construct the following pattern, using a nested loop number.\n",
    "# 1                                                                                                             \n",
    "# 22                                                                                                            \n",
    "# 333                                                                                                           \n",
    "# 4444                                                                                                          \n",
    "# 55555                                                                                                         \n",
    "# 666666                                                                                                        \n",
    "# 7777777                                                                                                       \n",
    "# 88888888                                                                                                      \n",
    "# 999999999    "
   ]
  },
  {
   "cell_type": "code",
   "execution_count": 5,
   "metadata": {},
   "outputs": [
    {
     "name": "stdout",
     "output_type": "stream",
     "text": [
      "1\n",
      "22\n",
      "333\n",
      "4444\n",
      "55555\n",
      "666666\n",
      "7777777\n",
      "88888888\n",
      "999999999\n"
     ]
    }
   ],
   "source": [
    "class Pattern:\n",
    "    def __init__(self,number):\n",
    "        self.number=number\n",
    "    def construct_pattern(self):\n",
    "        for i in range(1,self.number):\n",
    "                print(str(i)*i)\n",
    "                \n",
    "def main():\n",
    "    construct=Pattern(10)\n",
    "    construct.construct_pattern()\n",
    "if __name__==\"__main__\":\n",
    "    main()"
   ]
  },
  {
   "cell_type": "code",
   "execution_count": 7,
   "metadata": {},
   "outputs": [
    {
     "name": "stdout",
     "output_type": "stream",
     "text": [
      "1\n",
      "22\n",
      "333\n",
      "4444\n",
      "55555\n",
      "666666\n",
      "7777777\n",
      "88888888\n",
      "999999999\n"
     ]
    }
   ],
   "source": [
    "class Pattern:\n",
    "    def __init__(self,number):\n",
    "        self.number=number\n",
    "    def construct_pattern(self):\n",
    "        for i in range(1,self.number):\n",
    "            for j in range(0,i):\n",
    "                print(i,end='')\n",
    "            print()\n",
    "                \n",
    "def main():\n",
    "    construct=Pattern(10)\n",
    "    construct.construct_pattern()\n",
    "if __name__==\"__main__\":\n",
    "    main()"
   ]
  },
  {
   "cell_type": "code",
   "execution_count": null,
   "metadata": {},
   "outputs": [],
   "source": []
  }
 ],
 "metadata": {
  "kernelspec": {
   "display_name": "Python 3 (ipykernel)",
   "language": "python",
   "name": "python3"
  },
  "language_info": {
   "codemirror_mode": {
    "name": "ipython",
    "version": 3
   },
   "file_extension": ".py",
   "mimetype": "text/x-python",
   "name": "python",
   "nbconvert_exporter": "python",
   "pygments_lexer": "ipython3",
   "version": "3.10.2"
  }
 },
 "nbformat": 4,
 "nbformat_minor": 2
}
