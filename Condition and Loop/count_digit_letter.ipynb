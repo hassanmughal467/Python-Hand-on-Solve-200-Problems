{
 "cells": [
  {
   "cell_type": "code",
   "execution_count": 1,
   "metadata": {},
   "outputs": [],
   "source": [
    "# ---------------------------------------------------------------\n",
    "# python best courses https://courses.tanpham.org/\n",
    "# ---------------------------------------------------------------\n",
    "# Write a Python program that accepts a string and calculate the number of digits and letters\n",
    "# Sample Data : \"Python 3.2\"\n",
    "# Expected Output :\n",
    "# Letters 6 \n",
    "# Digits 2"
   ]
  },
  {
   "cell_type": "code",
   "execution_count": 2,
   "metadata": {},
   "outputs": [
    {
     "name": "stdout",
     "output_type": "stream",
     "text": [
      "Enter string :j9y8g\n",
      "2\n",
      "3\n"
     ]
    }
   ],
   "source": [
    "countletters=0\n",
    "countdigits=0\n",
    "str=input(\"Enter string :\")\n",
    "for i in range(0,len(str)):\n",
    "    if((str[i]>='a' and str[i]<='z') or (str[i]>='A' and str[i]<='Z')):\n",
    "            countletters+=1\n",
    "    elif(str[i]>='0' and str[i]<='9'):\n",
    "        countdigits+=1\n",
    "        \n",
    "print(countdigits)\n",
    "print(countletters)"
   ]
  },
  {
   "cell_type": "code",
   "execution_count": 7,
   "metadata": {},
   "outputs": [
    {
     "name": "stdout",
     "output_type": "stream",
     "text": [
      "Enter string = python 2.0\n",
      "Letters = 6\n",
      " Digits = 2\n"
     ]
    }
   ],
   "source": [
    "s=input(\"Enter string = \")\n",
    "letter=0\n",
    "digits=0\n",
    "for i in s:\n",
    "    if i.isalpha():\n",
    "        letter+=1\n",
    "    elif i.isdigit():\n",
    "        digits+=1\n",
    "print(\"Letters = \"+str(letter)+\"\\n\"+\" Digits = \"+str(digits))\n",
    "        "
   ]
  },
  {
   "cell_type": "code",
   "execution_count": null,
   "metadata": {},
   "outputs": [],
   "source": []
  },
  {
   "cell_type": "code",
   "execution_count": null,
   "metadata": {},
   "outputs": [],
   "source": []
  }
 ],
 "metadata": {
  "kernelspec": {
   "display_name": "Python 3 (ipykernel)",
   "language": "python",
   "name": "python3"
  },
  "language_info": {
   "codemirror_mode": {
    "name": "ipython",
    "version": 3
   },
   "file_extension": ".py",
   "mimetype": "text/x-python",
   "name": "python",
   "nbconvert_exporter": "python",
   "pygments_lexer": "ipython3",
   "version": "3.10.2"
  }
 },
 "nbformat": 4,
 "nbformat_minor": 2
}
