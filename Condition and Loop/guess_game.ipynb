{
 "cells": [
  {
   "cell_type": "code",
   "execution_count": null,
   "metadata": {},
   "outputs": [],
   "source": [
    "# Generate a random number between 1 and 9 (including 1 and 9).\n",
    "# Ask the user to guess the number, then tell them whether they guessed too low, too high, or exactly right. \n"
   ]
  },
  {
   "cell_type": "code",
   "execution_count": 1,
   "metadata": {},
   "outputs": [
    {
     "name": "stdout",
     "output_type": "stream",
     "text": [
      "Guess number6\n",
      "too low\n",
      "Actual Number =9\n",
      " Guess Number = 6\n",
      "Guess number8\n",
      "too low\n",
      "Actual Number =9\n",
      " Guess Number = 8\n",
      "Guess number9\n",
      "Too high\n",
      "Actual Number =7\n",
      " Guess Number = 9\n",
      "Guess number6\n",
      "too low\n",
      "Actual Number =7\n",
      " Guess Number = 6\n",
      "Guess number7\n",
      "Too high\n",
      "Actual Number =4\n",
      " Guess Number = 7\n",
      "Guess number8\n",
      "Too high\n",
      "Actual Number =2\n",
      " Guess Number = 8\n",
      "Guess number7\n",
      "Too high\n",
      "Actual Number =0\n",
      " Guess Number = 7\n",
      "Guess number6\n",
      "Too high\n",
      "Actual Number =4\n",
      " Guess Number = 6\n",
      "Guess number7\n",
      "Too high\n",
      "Actual Number =0\n",
      " Guess Number = 7\n",
      "Guess number88\n",
      "Too high\n",
      "Actual Number =3\n",
      " Guess Number = 88\n",
      "Guess number8\n",
      "Too high\n",
      "Actual Number =2\n",
      " Guess Number = 8\n",
      "Guess number7\n",
      "Too high\n",
      "Actual Number =3\n",
      " Guess Number = 7\n",
      "Guess number8\n",
      "Too high\n",
      "Actual Number =3\n",
      " Guess Number = 8\n",
      "Guess number7\n",
      "Too high\n",
      "Actual Number =4\n",
      " Guess Number = 7\n",
      "Guess number7\n",
      "Exactly right\n",
      "Actual Number =7\n",
      " Guess Number = 7\n"
     ]
    }
   ],
   "source": [
    "import random\n",
    "for i in range(0,20):\n",
    "    n=random.randint(0,9)\n",
    "    num=int(input(\"Guess number\"))\n",
    "    if num==n:\n",
    "        print(\"Exactly right\")\n",
    "        print(\"Actual Number =\"+ str(n)+\"\\n\"+\" Guess Number = \"+str(num))\n",
    "        break\n",
    "    elif num>=n:\n",
    "        print(\"Too high\")\n",
    "        print(\"Actual Number =\"+ str(n)+\"\\n\"+\" Guess Number = \"+str(num))\n",
    "    else:\n",
    "        print(\"too low\")\n",
    "        print(\"Actual Number =\"+ str(n)+\"\\n\"+\" Guess Number = \"+str(num))\n",
    "        "
   ]
  },
  {
   "cell_type": "code",
   "execution_count": null,
   "metadata": {},
   "outputs": [],
   "source": []
  }
 ],
 "metadata": {
  "kernelspec": {
   "display_name": "Python 3 (ipykernel)",
   "language": "python",
   "name": "python3"
  },
  "language_info": {
   "codemirror_mode": {
    "name": "ipython",
    "version": 3
   },
   "file_extension": ".py",
   "mimetype": "text/x-python",
   "name": "python",
   "nbconvert_exporter": "python",
   "pygments_lexer": "ipython3",
   "version": "3.10.2"
  }
 },
 "nbformat": 4,
 "nbformat_minor": 2
}
