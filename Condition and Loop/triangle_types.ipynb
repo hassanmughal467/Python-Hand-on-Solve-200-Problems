{
 "cells": [
  {
   "cell_type": "code",
   "execution_count": 1,
   "metadata": {},
   "outputs": [],
   "source": [
    "# Write a Python program to check a triangle is equilateral, isosceles or scalene.\n",
    "# Note :\n",
    "# An equilateral triangle is a triangle in which all three sides are equal.\n",
    "# A scalene triangle is a triangle that has three unequal sides.\n",
    "# An isosceles triangle is a triangle with (at least) two equal sides."
   ]
  },
  {
   "cell_type": "code",
   "execution_count": 3,
   "metadata": {},
   "outputs": [
    {
     "name": "stdout",
     "output_type": "stream",
     "text": [
      "An equilateral triangle is a triangle\n"
     ]
    }
   ],
   "source": [
    "class Triangle:\n",
    "    def __init__(self,side1,side2,side3):\n",
    "        self.side1=side1\n",
    "        self.side2=side2\n",
    "        self.side3=side3\n",
    "    def triangle_type(self):\n",
    "        if self.side1==self.side2 and self.side2==self.side3 and self.side3==self.side1:\n",
    "            print(\"An equilateral triangle is a triangle\")\n",
    "        elif self.side1!=self.side2 and self.side2!=self.side3 and self.side3!=self.side1:\n",
    "            print(\"An scalene triangle is a triangle\")\n",
    "        elif (self.side1==self.side2) or (self.side2==self.side3) or (self.side3==self.side1):\n",
    "            print(\"An isosceles triangle is a triangle\")\n",
    "\n",
    "def main():\n",
    "    type=Triangle(4,4,4)\n",
    "    type.triangle_type()\n",
    "if __name__==\"__main__\":\n",
    "    main()\n",
    "    \n",
    "        "
   ]
  },
  {
   "cell_type": "code",
   "execution_count": null,
   "metadata": {},
   "outputs": [],
   "source": []
  }
 ],
 "metadata": {
  "kernelspec": {
   "display_name": "Python 3 (ipykernel)",
   "language": "python",
   "name": "python3"
  },
  "language_info": {
   "codemirror_mode": {
    "name": "ipython",
    "version": 3
   },
   "file_extension": ".py",
   "mimetype": "text/x-python",
   "name": "python",
   "nbconvert_exporter": "python",
   "pygments_lexer": "ipython3",
   "version": "3.10.2"
  }
 },
 "nbformat": 4,
 "nbformat_minor": 2
}
