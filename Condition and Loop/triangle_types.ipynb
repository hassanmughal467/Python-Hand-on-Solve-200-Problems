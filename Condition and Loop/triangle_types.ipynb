{
 "cells": [
  {
   "cell_type": "code",
   "execution_count": 1,
   "metadata": {},
   "outputs": [],
   "source": [
    "# Write a Python program to check a triangle is equilateral, isosceles or scalene.\n",
    "# Note :\n",
    "# An equilateral triangle is a triangle in which all three sides are equal.\n",
    "# A scalene triangle is a triangle that has three unequal sides.\n",
    "# An isosceles triangle is a triangle with (at least) two equal sides."
   ]
  },
  {
   "cell_type": "code",
   "execution_count": 4,
   "metadata": {},
   "outputs": [
    {
     "name": "stdout",
     "output_type": "stream",
     "text": [
      " Enter side one = 4\n",
      " Enter side two = 4\n",
      " Enter side three = 4\n",
      "An equilateral triangle is a triangle\n"
     ]
    }
   ],
   "source": [
    "a=input(\" Enter side one = \")\n",
    "b=input(\" Enter side two = \")\n",
    "c=input(\" Enter side three = \")\n",
    "\n",
    "if a==b and b==c and c==a:\n",
    "    print(\"An equilateral triangle is a triangle\")\n",
    "elif a!=b and a!=c and c!=b:\n",
    "    print(\"An scalene triangle is a triangle\")\n",
    "elif (a==b) or (b==c) or (c==b):\n",
    "    print(\"An isosceles triangle is a triangle\")\n",
    "    "
   ]
  },
  {
   "cell_type": "code",
   "execution_count": null,
   "metadata": {},
   "outputs": [],
   "source": []
  }
 ],
 "metadata": {
  "kernelspec": {
   "display_name": "Python 3",
   "language": "python",
   "name": "python3"
  },
  "language_info": {
   "codemirror_mode": {
    "name": "ipython",
    "version": 3
   },
   "file_extension": ".py",
   "mimetype": "text/x-python",
   "name": "python",
   "nbconvert_exporter": "python",
   "pygments_lexer": "ipython3",
   "version": "3.7.4"
  }
 },
 "nbformat": 4,
 "nbformat_minor": 2
}
