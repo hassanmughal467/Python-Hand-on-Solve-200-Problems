{
 "cells": [
  {
   "cell_type": "code",
   "execution_count": 1,
   "metadata": {},
   "outputs": [],
   "source": [
    "# Write a Python program to check whether an alphabet is a vowel or consonant\n"
   ]
  },
  {
   "cell_type": "code",
   "execution_count": 3,
   "metadata": {},
   "outputs": [
    {
     "name": "stdout",
     "output_type": "stream",
     "text": [
      "g is a consonant.\n"
     ]
    }
   ],
   "source": [
    "class Vowel:\n",
    "    \n",
    "    def __init__(self,alpha):\n",
    "        self.alpha=alpha\n",
    "        \n",
    "    def check(self):\n",
    "        if self.alpha==\"a\" or self.alpha==\"e\" or self.alpha==\"i\" or self.alpha==\"o\" or self.alpha==\"u\":\n",
    "            print(self.alpha+ \" is a vowel.\")\n",
    "        else:\n",
    "            print(self.alpha+ \" is a consonant.\")\n",
    "def main():\n",
    "    Vowel_test=Vowel('g')\n",
    "    Vowel_test.check()\n",
    "if __name__==\"__main__\":\n",
    "    main()"
   ]
  },
  {
   "cell_type": "code",
   "execution_count": null,
   "metadata": {},
   "outputs": [],
   "source": []
  }
 ],
 "metadata": {
  "kernelspec": {
   "display_name": "Python 3 (ipykernel)",
   "language": "python",
   "name": "python3"
  },
  "language_info": {
   "codemirror_mode": {
    "name": "ipython",
    "version": 3
   },
   "file_extension": ".py",
   "mimetype": "text/x-python",
   "name": "python",
   "nbconvert_exporter": "python",
   "pygments_lexer": "ipython3",
   "version": "3.10.2"
  }
 },
 "nbformat": 4,
 "nbformat_minor": 2
}
